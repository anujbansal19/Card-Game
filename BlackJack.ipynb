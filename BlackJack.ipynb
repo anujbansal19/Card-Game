{
 "cells": [
  {
   "cell_type": "code",
   "execution_count": 66,
   "id": "0463f578",
   "metadata": {},
   "outputs": [],
   "source": [
    "import random\n",
    "\n",
    "values={'Two':2,'Three':3,'Four':4,'Five':5,'Six':6,'Seven':7,\n",
    "        'Eight':8,'Nine':9,'Ten':10,'Jack':10,'Queen':10,'King':10,'Ace':11}\n",
    "\n",
    "ranks=('Two','Three','Four','Five','Six','Seven','Eight','Nine','Ten','Jack','Queen','King','Ace')\n",
    "\n",
    "suits=('Hearts','Diamonds','Clubs','Spades')\n",
    "playing=True"
   ]
  },
  {
   "cell_type": "code",
   "execution_count": 67,
   "id": "967ca176",
   "metadata": {},
   "outputs": [],
   "source": [
    "class Card:\n",
    "    def __init__(self,rank,suit):\n",
    "        self.rank=rank\n",
    "        self.suit=suit\n",
    "        \n",
    "    def __str__(self):\n",
    "        return self.rank+' of '+self.suit"
   ]
  },
  {
   "cell_type": "code",
   "execution_count": 68,
   "id": "e9b6534c",
   "metadata": {},
   "outputs": [],
   "source": [
    "class Deck:\n",
    "    all_cards=[]\n",
    "    def __init__(self):\n",
    "        \n",
    "        for suit in suits:\n",
    "            for rank in ranks:\n",
    "                new_card=Card(rank,suit)\n",
    "                self.all_cards.append(new_card)\n",
    "    \n",
    "    def __str__(self):\n",
    "        return f'Deck has {len(self.all_cards)} cards.'\n",
    "    \n",
    "    def shuffle(self):\n",
    "        random.shuffle(self.all_cards)\n",
    "        \n",
    "    def deal_one(self):\n",
    "        return self.all_cards.pop()"
   ]
  },
  {
   "cell_type": "code",
   "execution_count": 69,
   "id": "8a5f8aa5",
   "metadata": {},
   "outputs": [],
   "source": [
    "class Hand:\n",
    "    def __init__(self):\n",
    "        self.cards=[]\n",
    "        self.aces=0\n",
    "        self.value=0\n",
    "    \n",
    "    def add_card(self,card):\n",
    "        self.cards.append(card)\n",
    "        self.value += values[card.rank]\n",
    "        \n",
    "        if card.rank=='Ace':\n",
    "            self.aces+=1\n",
    "    \n",
    "    def adjust_for_ace(self):\n",
    "        while self.value > 21 and self.aces:\n",
    "            self.value-=10\n",
    "            self.aces-=1"
   ]
  },
  {
   "cell_type": "code",
   "execution_count": 54,
   "id": "b1f28a58",
   "metadata": {},
   "outputs": [],
   "source": [
    "class Chip:\n",
    "    def __init__(self):\n",
    "        self.total=100\n",
    "        self.bet=0\n",
    "    \n",
    "    def win_bet(self):\n",
    "        self.total+=self.bet\n",
    "    \n",
    "    def lose_bet(self):\n",
    "        self.total-=self.bet    "
   ]
  },
  {
   "cell_type": "code",
   "execution_count": 55,
   "id": "526ad5c3",
   "metadata": {},
   "outputs": [],
   "source": [
    "def hit(deck,hand):\n",
    "    \n",
    "    current_card=deck.deal_one()\n",
    "    hand.add_card(current_card)\n",
    "    hand.adjust_for_ace()"
   ]
  },
  {
   "cell_type": "code",
   "execution_count": 61,
   "id": "75cf7e4a",
   "metadata": {},
   "outputs": [],
   "source": [
    "def show_some(dealer,player):\n",
    "    print(\"\\nDealer's cards: \")\n",
    "    print(\"\\nFirst card hidden!\")\n",
    "    print(dealer.cards[1])\n",
    "    \n",
    "    print(\"\\nPlayer's Cards: \")\n",
    "    for card in player.cards:\n",
    "        print(card)\n",
    "\n",
    "def show_all(dealer,player):\n",
    "    print(\"\\nDealer's all cards: \")\n",
    "    print(*dealer.cards,sep=' , ')\n",
    "    print(\"Value of dealer's cards : {}\".format(dealer.value))\n",
    "        \n",
    "    print(\"\\nPlayer's all cards: \")\n",
    "    print(*player.cards,sep=' , ')\n",
    "    print(\"Value of player's cards : {}\".format(player.value))"
   ]
  },
  {
   "cell_type": "code",
   "execution_count": 62,
   "id": "0672ba78",
   "metadata": {},
   "outputs": [],
   "source": [
    "def place_bet(chip):\n",
    "    \n",
    "    while True:\n",
    "        try:\n",
    "            chip.bet=int(input(\"How many chips do you want to bet?: \"))\n",
    "        except:\n",
    "            print(\"Can't understand, please enter an integer only! \")\n",
    "        else:\n",
    "            if chip.bet > chip.total:\n",
    "                print(\"Bet out of range! Try again!\")\n",
    "            else:\n",
    "                break"
   ]
  },
  {
   "cell_type": "code",
   "execution_count": 63,
   "id": "7c281487",
   "metadata": {},
   "outputs": [],
   "source": [
    "def win_player(dealer,player,chips):\n",
    "    print(\"Player Wins!\")\n",
    "    chips.win_bet()\n",
    "    \n",
    "def lose_player(dealer,player,chips):\n",
    "    print(\"Player Loses!\")\n",
    "    chips.lose_bet()\n",
    "    \n",
    "def win_dealer(dealer,player,chips):\n",
    "    print(\"Dealer Wins!\")\n",
    "    chips.win_bet()\n",
    "    \n",
    "def lose_dealer(dealer,player,chips):\n",
    "    print(\"Dealer Loses!\")\n",
    "    chips.lose_bet()\n",
    "    \n",
    "def push(dealer,player):\n",
    "    print(\"Round Pushed!\")"
   ]
  },
  {
   "cell_type": "code",
   "execution_count": 64,
   "id": "ab517fa7",
   "metadata": {},
   "outputs": [],
   "source": [
    "def hit_or_stand(deck,hand):\n",
    "    global playing\n",
    "    while True:\n",
    "        x=input(\"Hit OR Stand, select h or s : \")\n",
    "        if x[0].lower() =='h':\n",
    "            hit(deck,hand)\n",
    "            \n",
    "        elif x[0].lower() =='s':\n",
    "            print(\"Player stands, Dealer's turn\")\n",
    "            playing=False\n",
    "            \n",
    "        else:\n",
    "            print(\"Can't understand, please enter h or s only!\")\n",
    "            continue\n",
    "        break"
   ]
  },
  {
   "cell_type": "code",
   "execution_count": 65,
   "id": "4b7812b2",
   "metadata": {},
   "outputs": [
    {
     "name": "stdout",
     "output_type": "stream",
     "text": [
      "How many chips do you want to bet?: 20\n",
      "\n",
      "Dealer's all cards: \n",
      "Two of Spades , Four of Hearts\n",
      "Value of dealer's cards : 6\n",
      "\n",
      "Player's all cards: \n",
      "Queen of Clubs , Ace of Spades\n",
      "Value of player's cards : 21\n",
      "Dealer Loses!\n",
      "Player Wins!\n",
      "Want to play another game? Yes OR No? no\n"
     ]
    }
   ],
   "source": [
    "while True:\n",
    "    deck=Deck()\n",
    "    deck.shuffle()\n",
    "    \n",
    "    player_hand=Hand()\n",
    "    player_hand.add_card(deck.deal_one())\n",
    "    player_hand.add_card(deck.deal_one())\n",
    "    \n",
    "    dealer_hand=Hand()\n",
    "    dealer_hand.add_card(deck.deal_one())\n",
    "    dealer_hand.add_card(deck.deal_one())\n",
    "    \n",
    "    player_chips=Chip()\n",
    "    dealer_chips=Chip()\n",
    "    \n",
    "    place_bet(player_chips)\n",
    "    \n",
    "    while playing:\n",
    "        \n",
    "        \n",
    "        \n",
    "        show_some(dealer_hand,player_hand)\n",
    "        \n",
    "        hit_or_stand(deck,player_hand)\n",
    "        \n",
    "        if dealer_hand.value < player_hand.value:\n",
    "            hit(deck,dealer_hand)\n",
    "        \n",
    "        if dealer_hand.value > 21:\n",
    "            dealer_hand.adjust_for_ace()\n",
    "        if player_hand.value > 21:\n",
    "            player_hand.adjust_for_ace()\n",
    "        \n",
    "    show_all(dealer_hand,player_hand)\n",
    "    \n",
    "    if dealer_hand.value > 21 or dealer_hand.value < player_hand.value:\n",
    "        lose_dealer(dealer_hand,player_hand,dealer_chips)\n",
    "        win_player(dealer_hand,player_hand,player_chips)\n",
    "        \n",
    "    if player_hand.value > 21 or dealer_hand.value > player_hand.value:\n",
    "        lose_player(dealer_hand,player_hand,player_chips)\n",
    "        win_dealer(dealer_hand,player_hand,dealer_chips)\n",
    "    \n",
    "    choice=input(\"Want to play another game? Yes OR No? \")\n",
    "    if choice[0].lower=='y':\n",
    "        continue\n",
    "    else:\n",
    "        break"
   ]
  },
  {
   "cell_type": "code",
   "execution_count": null,
   "id": "992de626",
   "metadata": {},
   "outputs": [],
   "source": []
  },
  {
   "cell_type": "code",
   "execution_count": null,
   "id": "a36c0e68",
   "metadata": {},
   "outputs": [],
   "source": []
  },
  {
   "cell_type": "code",
   "execution_count": null,
   "id": "c2198ce0",
   "metadata": {},
   "outputs": [],
   "source": []
  }
 ],
 "metadata": {
  "kernelspec": {
   "display_name": "Python 3",
   "language": "python",
   "name": "python3"
  },
  "language_info": {
   "codemirror_mode": {
    "name": "ipython",
    "version": 3
   },
   "file_extension": ".py",
   "mimetype": "text/x-python",
   "name": "python",
   "nbconvert_exporter": "python",
   "pygments_lexer": "ipython3",
   "version": "3.8.8"
  }
 },
 "nbformat": 4,
 "nbformat_minor": 5
}
